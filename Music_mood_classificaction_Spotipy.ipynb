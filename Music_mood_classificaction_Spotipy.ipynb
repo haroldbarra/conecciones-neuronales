{
  "nbformat": 4,
  "nbformat_minor": 0,
  "metadata": {
    "colab": {
      "provenance": []
    },
    "kernelspec": {
      "name": "python3",
      "display_name": "Python 3"
    },
    "language_info": {
      "name": "python"
    }
  },
  "cells": [
    {
      "cell_type": "markdown",
      "source": [
        "### Generando el dataset"
      ],
      "metadata": {
        "id": "OYtZAgGZLKwx"
      }
    },
    {
      "cell_type": "code",
      "source": [
        "!pip install spotipy --upgrade"
      ],
      "metadata": {
        "id": "72_baIpRzw7g"
      },
      "execution_count": null,
      "outputs": []
    },
    {
      "cell_type": "code",
      "source": [
        "import spotipy\n",
        "from spotipy.oauth2 import SpotifyClientCredentials\n",
        "from spotipy import util\n",
        "import pandas as pd"
      ],
      "metadata": {
        "id": "jlOcglqfzpmK"
      },
      "execution_count": null,
      "outputs": []
    },
    {
      "cell_type": "code",
      "source": [
        "def get_track_features(track_ids, spotify):\n",
        "\n",
        "    features_df = pd.DataFrame(columns=['name', 'album', 'artist', 'release_date', 'popularity', 'id', \n",
        "                                        'acousticness', 'danceability', 'duration_ms', 'energy', 'instrumentalness', 'liveness', 'valence', 'loudness', 'speechiness', 'tempo'])\n",
        "\n",
        "    for track_id in track_ids:\n",
        "\n",
        "      meta = spotify.track(track_id)\n",
        "      features = spotify.audio_features(track_id)\n",
        "\n",
        "      # meta\n",
        "      name = meta['name']\n",
        "      album = meta['album']['name']\n",
        "      artist = meta['album']['artists'][0]['name']\n",
        "      release_date = meta['album']['release_date']\n",
        "      popularity = meta['popularity']\n",
        "      id =  meta['id']\n",
        "\n",
        "      # features\n",
        "      acousticness = features[0]['acousticness']\n",
        "      danceability = features[0]['danceability']\n",
        "      duration_ms = features[0]['duration_ms']\n",
        "      energy = features[0]['energy']\n",
        "      instrumentalness = features[0]['instrumentalness']\n",
        "      liveness = features[0]['liveness']\n",
        "      valence = features[0]['valence']\n",
        "      loudness = features[0]['loudness']\n",
        "      speechiness = features[0]['speechiness']\n",
        "      tempo = features[0]['tempo']\n",
        "\n",
        "      features_df.loc[len(features_df.index)] = [name, album, artist, release_date, popularity, id, acousticness, danceability, duration_ms, energy, instrumentalness, liveness, valence, loudness, speechiness, tempo]\n",
        "    \n",
        "    return features_df"
      ],
      "metadata": {
        "id": "V5BI5T7N0AyJ"
      },
      "execution_count": null,
      "outputs": []
    },
    {
      "cell_type": "code",
      "source": [
        "spotify = spotipy.Spotify(auth_manager=spotipy.SpotifyOAuth(\n",
        "          username='deyvisml', \n",
        "          scope='user-library-read',\n",
        "          client_id='6d0f9aaa34434405ab4e8ccf13c5e8a4',\n",
        "          client_secret='18852cb5021a446dbec8452846a1b42a',\n",
        "          redirect_uri='http://.google.com',\n",
        "          open_browser=False))"
      ],
      "metadata": {
        "id": "dqoAq_D_0Djn"
      },
      "execution_count": null,
      "outputs": []
    },
    {
      "cell_type": "code",
      "source": [
        "playlists = {\n",
        "             'Energetic' : [\"https://open.spotify.com/playlist/4QDWboU5rwpDRXwYprwJf5?si=815ef93592e7475f\",\n",
        "                            \"https://open.spotify.com/playlist/0V32mTwWBzo6rNIk21owsY?si=1421ae7c97434fbf\",\n",
        "                            \"https://open.spotify.com/playlist/37i9dQZF1DWZVAVMhIe3pV?si=e938fbab06704fa3\",\n",
        "                            \"https://open.spotify.com/playlist/0aiTiI5o1lY26AFdf6V4vd?si=f5d08192f46a4247\",\n",
        "                            \"https://open.spotify.com/playlist/7HptHES38lgW9wW4jZpBLL?si=4f904f3e5f504cd6\",\n",
        "                            \"https://open.spotify.com/playlist/0f3jgTdNaT7UVx8kMpMOnt?si=0a8fbf05817149b4\",\n",
        "                            \"https://open.spotify.com/playlist/37i9dQZF1DWYp5sAHdz27Y?si=2691e47426f24bb1\"],\n",
        "             'Happy' :     [\"https://open.spotify.com/playlist/1h90L3LP8kAJ7KGjCV2Xfd?si=5e2691af69e544a3\",\n",
        "                            \"https://open.spotify.com/playlist/4AnAUkQNrLKlJCInZGSXRO?si=9846e647548d4026\",\n",
        "                            \"https://open.spotify.com/playlist/3ck7KjH34H20a48Ew37roz?si=de3adbf848b74ba8\",\n",
        "                            \"https://open.spotify.com/playlist/1l1TFIC0tf0OLDqTO8BcGP?si=f9f4af7621034266\",\n",
        "                            \"https://open.spotify.com/playlist/1l1TFIC0tf0OLDqTO8BcGP?si=0354b6000ceb4f0a\",\n",
        "                            \"https://open.spotify.com/playlist/3ck7KjH34H20a48Ew37roz?si=365babca6ffe458b\",\n",
        "                            \"https://open.spotify.com/playlist/4AnAUkQNrLKlJCInZGSXRO?si=3ea55d9aaa924824\",\n",
        "                            \"https://open.spotify.com/playlist/6pTTaGg2WTR1fJYpdwHo4K?si=3760bcdfe9934574\",\n",
        "                            \"https://open.spotify.com/playlist/2oMvaOzAykhVFXEUL1BgIC?si=5f69f6731ef3442d\",\n",
        "                            \"https://open.spotify.com/playlist/4El1R3KDhjN4KbDoZD3Zyg?si=26f72ff41cc14aaa\"],\n",
        "             'Sad':        [\"https://open.spotify.com/playlist/1n2MYYpuxk9ueZD2iGYJXB?si=34c51a703dd04640\",\n",
        "                            \"https://open.spotify.com/playlist/3c0Nv5CY6TIaRszlTZbUFk?si=8b2618e9857340b6\",\n",
        "                            \"https://open.spotify.com/playlist/44tRfteJJzAmUONSiA56bQ?si=7a2d5e8f75fd410c\",\n",
        "                            \"https://open.spotify.com/playlist/3ki8vUdZYRPTbWbjvmEZpj?si=8765fcb260be494f\",\n",
        "                            \"https://open.spotify.com/playlist/3ki8vUdZYRPTbWbjvmEZpj?si=530b142e2398447d\",\n",
        "                            \"https://open.spotify.com/playlist/5NrGEthiUdx4TWBHjBxi8p?si=5358f7d41b8d470e\",\n",
        "                            \"https://open.spotify.com/playlist/48pKsvTVUtFmkQKfbQefPy?si=60ceb099074b427f\",\n",
        "                            \"https://open.spotify.com/playlist/3sMglvMJXhjWbFoDWwRV0U?si=15bf1be3a23e4c55\",\n",
        "                            \"https://open.spotify.com/playlist/1qHC5kr5N0czuvIQG01vD9?si=8be58081286f4177\",\n",
        "                            \"https://open.spotify.com/playlist/5mZdg8m9fRA16ZAUrMkqez?si=39b0c709f61b49af\",\n",
        "                            \"https://open.spotify.com/playlist/6KJzsY7bEBMgeYyFgVjnpk?si=644318ea517d4270\",\n",
        "                            \"https://open.spotify.com/playlist/37i9dQZF1DWT0qByOJYmmJ?si=ddf94f398d3a4f59\"]\n",
        "}"
      ],
      "metadata": {
        "id": "mJ2fA0YGscDT"
      },
      "execution_count": null,
      "outputs": []
    },
    {
      "cell_type": "code",
      "source": [
        "tracks = pd.DataFrame()"
      ],
      "metadata": {
        "id": "o_gC4mHGskg5"
      },
      "execution_count": null,
      "outputs": []
    },
    {
      "cell_type": "code",
      "source": [
        "tracks"
      ],
      "metadata": {
        "id": "wtj--ELRgA27"
      },
      "execution_count": null,
      "outputs": []
    },
    {
      "cell_type": "code",
      "source": [
        "for mood, links in playlists.items():\n",
        "    print (mood)\n",
        "    for link in links:\n",
        "        id = link[34:56]\n",
        "\n",
        "        try:\n",
        "            pl_tracks = spotify.playlist_tracks(id)['items']\n",
        "            ids = [foo['track']['id'] for foo in pl_tracks]\n",
        "        except:\n",
        "            print (link)\n",
        "            continue\n",
        "\n",
        "        features = get_track_features(ids, spotify)\n",
        "\n",
        "        features['mood'] = mood\n",
        "        tracks = tracks.append(features)\n",
        "\n",
        "tracks.to_csv('tracks.csv')"
      ],
      "metadata": {
        "colab": {
          "base_uri": "https://localhost:8080/"
        },
        "id": "vzqEBKL_0Hno",
        "outputId": "38ade06d-2cf8-4033-9766-1b0bf8c10563"
      },
      "execution_count": null,
      "outputs": [
        {
          "output_type": "stream",
          "name": "stdout",
          "text": [
            "Energetic\n",
            "Happy\n",
            "Sad\n"
          ]
        }
      ]
    },
    {
      "cell_type": "code",
      "source": [
        "tracks.describe()"
      ],
      "metadata": {
        "id": "3NOiSixaAWzO"
      },
      "execution_count": null,
      "outputs": []
    },
    {
      "cell_type": "code",
      "source": [
        "# eliminando duplicados\n",
        "\n",
        "tracks = tracks.drop_duplicates()"
      ],
      "metadata": {
        "id": "wR2-HF-WbJVc"
      },
      "execution_count": null,
      "outputs": []
    },
    {
      "cell_type": "code",
      "source": [
        "# estableciendo el mismo numero de ejemplares por clase\n",
        "\n",
        "tracks = tracks.groupby(\"mood\").head(500)\n",
        "tracks.groupby(\"mood\").size()"
      ],
      "metadata": {
        "colab": {
          "base_uri": "https://localhost:8080/"
        },
        "id": "S2G8GLl2mava",
        "outputId": "21c9cebb-c801-48bc-ee1c-75f481ce409b"
      },
      "execution_count": null,
      "outputs": [
        {
          "output_type": "execute_result",
          "data": {
            "text/plain": [
              "mood\n",
              "Energetic    500\n",
              "Happy        500\n",
              "Sad          500\n",
              "dtype: int64"
            ]
          },
          "metadata": {},
          "execution_count": 282
        }
      ]
    },
    {
      "cell_type": "code",
      "source": [
        "# exportando el dataframe\n",
        "\n",
        "tracks.to_csv('tracks.csv')"
      ],
      "metadata": {
        "id": "BS72NrmuwhlZ"
      },
      "execution_count": null,
      "outputs": []
    },
    {
      "cell_type": "markdown",
      "source": [
        "---"
      ],
      "metadata": {
        "id": "Kakbcd_nAhSi"
      }
    },
    {
      "cell_type": "code",
      "source": [
        "# codigo auxiliar para la primera autenticación\n",
        "\n",
        "res = spotify.search(\"Cake by the ocean\")\n",
        "print(res)"
      ],
      "metadata": {
        "id": "P3NQrOP9SHhM"
      },
      "execution_count": null,
      "outputs": []
    },
    {
      "cell_type": "markdown",
      "source": [
        "### Keras classifier"
      ],
      "metadata": {
        "id": "Exh-0KArFfsZ"
      }
    },
    {
      "cell_type": "code",
      "source": [
        "#Script to obtain data \n",
        "import numpy as np \n",
        "import pandas as pd \n",
        "import matplotlib.pyplot as plt\n",
        "import seaborn as sns\n",
        "\n",
        "#Libraries to create the multiclass model\n",
        "from keras.models import Sequential\n",
        "from keras.layers import Dense\n",
        "from keras import models\n",
        "from keras import layers\n",
        "\n",
        "#Library to validate the model\n",
        "from sklearn.model_selection import cross_val_score, train_test_split\n",
        "from sklearn.preprocessing import LabelEncoder, MinMaxScaler\n",
        "from sklearn.metrics import confusion_matrix, accuracy_score"
      ],
      "metadata": {
        "id": "i4h1S86MEV2z"
      },
      "execution_count": null,
      "outputs": []
    },
    {
      "cell_type": "code",
      "source": [
        "df = pd.read_csv(\"tracks.csv\")"
      ],
      "metadata": {
        "id": "pCqm1SjLEdxc"
      },
      "execution_count": null,
      "outputs": []
    },
    {
      "cell_type": "code",
      "source": [
        "df.head()"
      ],
      "metadata": {
        "id": "IAvlS0TFHGV5"
      },
      "execution_count": null,
      "outputs": []
    },
    {
      "cell_type": "code",
      "source": [
        "# Preprocesing X\n",
        "col_features = df.columns[7:-1]\n",
        "\n",
        "scaler = MinMaxScaler() # between 0 and 1\n",
        "X_scaled = scaler.fit_transform(df[col_features])"
      ],
      "metadata": {
        "id": "detKj_QgGbs7"
      },
      "execution_count": null,
      "outputs": []
    },
    {
      "cell_type": "code",
      "source": [
        "# Preprocesing y\n",
        "y = df['mood']\n",
        "\n",
        "y_encoded = LabelEncoder().fit_transform(y)"
      ],
      "metadata": {
        "id": "NYo_4CfoMSST"
      },
      "execution_count": null,
      "outputs": []
    },
    {
      "cell_type": "code",
      "source": [
        "y"
      ],
      "metadata": {
        "id": "WXQfhbHgmABl"
      },
      "execution_count": null,
      "outputs": []
    },
    {
      "cell_type": "code",
      "source": [
        "y_encoded"
      ],
      "metadata": {
        "id": "URENDF-PmFkV"
      },
      "execution_count": null,
      "outputs": []
    },
    {
      "cell_type": "code",
      "source": [
        "pd.DataFrame(X_scaled).describe()"
      ],
      "metadata": {
        "id": "v4lM0uOEvbbg"
      },
      "execution_count": null,
      "outputs": []
    },
    {
      "cell_type": "code",
      "source": [
        "# Partiendo el dataset\n",
        "\n",
        "X_train, X_test, y_train, y_test = train_test_split(X_scaled, y_encoded, test_size=0.2, random_state = 42)"
      ],
      "metadata": {
        "id": "Zi9qHX59K7Fn"
      },
      "execution_count": null,
      "outputs": []
    },
    {
      "cell_type": "code",
      "source": [
        "target = pd.DataFrame({'mood': df['mood'].tolist(),\n",
        "                      'encode': y_encoded}).drop_duplicates().sort_values(['encode'], ascending=True)\n",
        "target"
      ],
      "metadata": {
        "colab": {
          "base_uri": "https://localhost:8080/",
          "height": 143
        },
        "id": "_MPiI67wNhoQ",
        "outputId": "f2603980-767c-4bcf-d989-dc8393887b3c"
      },
      "execution_count": null,
      "outputs": [
        {
          "output_type": "execute_result",
          "data": {
            "text/plain": [
              "          mood  encode\n",
              "0    Energetic       0\n",
              "488      Happy       1\n",
              "860        Sad       2"
            ],
            "text/html": [
              "\n",
              "  <div id=\"df-57baab1a-72fa-4f4b-825a-22cb2946e85f\">\n",
              "    <div class=\"colab-df-container\">\n",
              "      <div>\n",
              "<style scoped>\n",
              "    .dataframe tbody tr th:only-of-type {\n",
              "        vertical-align: middle;\n",
              "    }\n",
              "\n",
              "    .dataframe tbody tr th {\n",
              "        vertical-align: top;\n",
              "    }\n",
              "\n",
              "    .dataframe thead th {\n",
              "        text-align: right;\n",
              "    }\n",
              "</style>\n",
              "<table border=\"1\" class=\"dataframe\">\n",
              "  <thead>\n",
              "    <tr style=\"text-align: right;\">\n",
              "      <th></th>\n",
              "      <th>mood</th>\n",
              "      <th>encode</th>\n",
              "    </tr>\n",
              "  </thead>\n",
              "  <tbody>\n",
              "    <tr>\n",
              "      <th>0</th>\n",
              "      <td>Energetic</td>\n",
              "      <td>0</td>\n",
              "    </tr>\n",
              "    <tr>\n",
              "      <th>488</th>\n",
              "      <td>Happy</td>\n",
              "      <td>1</td>\n",
              "    </tr>\n",
              "    <tr>\n",
              "      <th>860</th>\n",
              "      <td>Sad</td>\n",
              "      <td>2</td>\n",
              "    </tr>\n",
              "  </tbody>\n",
              "</table>\n",
              "</div>\n",
              "      <button class=\"colab-df-convert\" onclick=\"convertToInteractive('df-57baab1a-72fa-4f4b-825a-22cb2946e85f')\"\n",
              "              title=\"Convert this dataframe to an interactive table.\"\n",
              "              style=\"display:none;\">\n",
              "        \n",
              "  <svg xmlns=\"http://www.w3.org/2000/svg\" height=\"24px\"viewBox=\"0 0 24 24\"\n",
              "       width=\"24px\">\n",
              "    <path d=\"M0 0h24v24H0V0z\" fill=\"none\"/>\n",
              "    <path d=\"M18.56 5.44l.94 2.06.94-2.06 2.06-.94-2.06-.94-.94-2.06-.94 2.06-2.06.94zm-11 1L8.5 8.5l.94-2.06 2.06-.94-2.06-.94L8.5 2.5l-.94 2.06-2.06.94zm10 10l.94 2.06.94-2.06 2.06-.94-2.06-.94-.94-2.06-.94 2.06-2.06.94z\"/><path d=\"M17.41 7.96l-1.37-1.37c-.4-.4-.92-.59-1.43-.59-.52 0-1.04.2-1.43.59L10.3 9.45l-7.72 7.72c-.78.78-.78 2.05 0 2.83L4 21.41c.39.39.9.59 1.41.59.51 0 1.02-.2 1.41-.59l7.78-7.78 2.81-2.81c.8-.78.8-2.07 0-2.86zM5.41 20L4 18.59l7.72-7.72 1.47 1.35L5.41 20z\"/>\n",
              "  </svg>\n",
              "      </button>\n",
              "      \n",
              "  <style>\n",
              "    .colab-df-container {\n",
              "      display:flex;\n",
              "      flex-wrap:wrap;\n",
              "      gap: 12px;\n",
              "    }\n",
              "\n",
              "    .colab-df-convert {\n",
              "      background-color: #E8F0FE;\n",
              "      border: none;\n",
              "      border-radius: 50%;\n",
              "      cursor: pointer;\n",
              "      display: none;\n",
              "      fill: #1967D2;\n",
              "      height: 32px;\n",
              "      padding: 0 0 0 0;\n",
              "      width: 32px;\n",
              "    }\n",
              "\n",
              "    .colab-df-convert:hover {\n",
              "      background-color: #E2EBFA;\n",
              "      box-shadow: 0px 1px 2px rgba(60, 64, 67, 0.3), 0px 1px 3px 1px rgba(60, 64, 67, 0.15);\n",
              "      fill: #174EA6;\n",
              "    }\n",
              "\n",
              "    [theme=dark] .colab-df-convert {\n",
              "      background-color: #3B4455;\n",
              "      fill: #D2E3FC;\n",
              "    }\n",
              "\n",
              "    [theme=dark] .colab-df-convert:hover {\n",
              "      background-color: #434B5C;\n",
              "      box-shadow: 0px 1px 3px 1px rgba(0, 0, 0, 0.15);\n",
              "      filter: drop-shadow(0px 1px 2px rgba(0, 0, 0, 0.3));\n",
              "      fill: #FFFFFF;\n",
              "    }\n",
              "  </style>\n",
              "\n",
              "      <script>\n",
              "        const buttonEl =\n",
              "          document.querySelector('#df-57baab1a-72fa-4f4b-825a-22cb2946e85f button.colab-df-convert');\n",
              "        buttonEl.style.display =\n",
              "          google.colab.kernel.accessAllowed ? 'block' : 'none';\n",
              "\n",
              "        async function convertToInteractive(key) {\n",
              "          const element = document.querySelector('#df-57baab1a-72fa-4f4b-825a-22cb2946e85f');\n",
              "          const dataTable =\n",
              "            await google.colab.kernel.invokeFunction('convertToInteractive',\n",
              "                                                     [key], {});\n",
              "          if (!dataTable) return;\n",
              "\n",
              "          const docLinkHtml = 'Like what you see? Visit the ' +\n",
              "            '<a target=\"_blank\" href=https://colab.research.google.com/notebooks/data_table.ipynb>data table notebook</a>'\n",
              "            + ' to learn more about interactive tables.';\n",
              "          element.innerHTML = '';\n",
              "          dataTable['output_type'] = 'display_data';\n",
              "          await google.colab.output.renderOutput(dataTable, element);\n",
              "          const docLink = document.createElement('div');\n",
              "          docLink.innerHTML = docLinkHtml;\n",
              "          element.appendChild(docLink);\n",
              "        }\n",
              "      </script>\n",
              "    </div>\n",
              "  </div>\n",
              "  "
            ]
          },
          "metadata": {},
          "execution_count": 16
        }
      ]
    },
    {
      "cell_type": "code",
      "source": [
        "# Creando el modelo\n",
        "\n",
        "model = models.Sequential()\n",
        "model.add(layers.Dense(16, activation='relu', input_shape=(10,)))\n",
        "model.add(layers.Dense(8, activation='relu'))\n",
        "model.add(layers.Dense(3, activation='softmax'))"
      ],
      "metadata": {
        "id": "dcoHmom5KbAf"
      },
      "execution_count": null,
      "outputs": []
    },
    {
      "cell_type": "code",
      "source": [
        "model.summary()"
      ],
      "metadata": {
        "colab": {
          "base_uri": "https://localhost:8080/"
        },
        "id": "68b5iId-K13p",
        "outputId": "2bbf8e5b-94f2-4784-aaf3-954accee4763"
      },
      "execution_count": null,
      "outputs": [
        {
          "output_type": "stream",
          "name": "stdout",
          "text": [
            "Model: \"sequential\"\n",
            "_________________________________________________________________\n",
            " Layer (type)                Output Shape              Param #   \n",
            "=================================================================\n",
            " dense (Dense)               (None, 16)                176       \n",
            "                                                                 \n",
            " dense_1 (Dense)             (None, 8)                 136       \n",
            "                                                                 \n",
            " dense_2 (Dense)             (None, 3)                 27        \n",
            "                                                                 \n",
            "=================================================================\n",
            "Total params: 339\n",
            "Trainable params: 339\n",
            "Non-trainable params: 0\n",
            "_________________________________________________________________\n"
          ]
        }
      ]
    },
    {
      "cell_type": "code",
      "source": [
        "model.compile(loss='sparse_categorical_crossentropy',\n",
        "              optimizer='adam',\n",
        "              metrics=['accuracy'])"
      ],
      "metadata": {
        "id": "AYe0V5idKk_X"
      },
      "execution_count": null,
      "outputs": []
    },
    {
      "cell_type": "code",
      "source": [
        "hist = model.fit(X_train, y_train,\n",
        "          batch_size=57, epochs=200, validation_split=0.2)"
      ],
      "metadata": {
        "id": "A3pkRbVWKoL_"
      },
      "execution_count": null,
      "outputs": []
    },
    {
      "cell_type": "code",
      "source": [
        "#visualize the training loss and the validation loss to see if the model is overfitting\n",
        "\n",
        "plt.figure(figsize=(10,6))\n",
        "\n",
        "plt.plot(hist.history['loss'])\n",
        "plt.plot(hist.history['val_loss'])\n",
        "plt.title('Model loss')\n",
        "plt.ylabel('Loss')\n",
        "plt.xlabel('Epoch')\n",
        "plt.legend(['Train', 'Val'], loc='upper right')\n",
        "plt.show()"
      ],
      "metadata": {
        "colab": {
          "base_uri": "https://localhost:8080/",
          "height": 404
        },
        "id": "nubIk8EI3Sh2",
        "outputId": "ae762287-ffda-4bf3-88da-d0959fc05671"
      },
      "execution_count": null,
      "outputs": [
        {
          "output_type": "display_data",
          "data": {
            "text/plain": [
              "<Figure size 720x432 with 1 Axes>"
            ],
            "image/png": "[encoded data removed]"
          },
          "metadata": {
            "needs_background": "light"
          }
        }
      ]
    },
    {
      "cell_type": "code",
      "source": [
        "#visualize the training accuracy and the validation accuracy to see if the model is overfitting\n",
        "\n",
        "plt.figure(figsize=(10,6))\n",
        "\n",
        "plt.plot(hist.history['accuracy'])\n",
        "plt.plot(hist.history['val_accuracy'])\n",
        "plt.title('Model accuracy')\n",
        "plt.ylabel('Accuracy')\n",
        "plt.xlabel('Epoch')\n",
        "plt.legend(['Train', 'Val'], loc='lower right')\n",
        "plt.show()"
      ],
      "metadata": {
        "colab": {
          "base_uri": "https://localhost:8080/",
          "height": 404
        },
        "id": "6eYzxRun3nd3",
        "outputId": "9c2a1630-9b60-46b1-a8b6-459ad27e46ce"
      },
      "execution_count": null,
      "outputs": [
        {
          "output_type": "display_data",
          "data": {
            "text/plain": [
              "<Figure size 720x432 with 1 Axes>"
            ],
            "image/png": "[encoded data removed]"
          },
          "metadata": {
            "needs_background": "light"
          }
        }
      ]
    },
    {
      "cell_type": "code",
      "source": [
        "test_loss, test_acc = model.evaluate(X_test,y_test)\n",
        "test_acc"
      ],
      "metadata": {
        "id": "83YBROuc9MfW",
        "colab": {
          "base_uri": "https://localhost:8080/"
        },
        "outputId": "9a8b536e-a1ab-449f-f033-507b930ce38d"
      },
      "execution_count": null,
      "outputs": [
        {
          "output_type": "stream",
          "name": "stdout",
          "text": [
            "10/10 [==============================] - 0s 1ms/step - loss: 0.6271 - accuracy: 0.7367\n"
          ]
        },
        {
          "output_type": "execute_result",
          "data": {
            "text/plain": [
              "0.7366666793823242"
            ]
          },
          "metadata": {},
          "execution_count": 23
        }
      ]
    },
    {
      "cell_type": "code",
      "source": [
        "y_preds = model.predict(X_test)\n",
        "y_preds = np.argmax(y_preds, axis=1)\n",
        "y_preds"
      ],
      "metadata": {
        "colab": {
          "base_uri": "https://localhost:8080/"
        },
        "id": "jU921s_INNMQ",
        "outputId": "49d8ee3f-ff8c-44b9-a8d9-63f6717a1546"
      },
      "execution_count": null,
      "outputs": [
        {
          "output_type": "stream",
          "name": "stdout",
          "text": [
            "10/10 [==============================] - 0s 1ms/step\n"
          ]
        },
        {
          "output_type": "execute_result",
          "data": {
            "text/plain": [
              "array([2, 2, 1, 0, 1, 2, 2, 1, 2, 0, 2, 2, 1, 2, 0, 0, 1, 1, 1, 0, 1, 0,\n",
              "       2, 1, 2, 1, 2, 1, 0, 0, 2, 1, 1, 2, 1, 1, 1, 1, 2, 0, 2, 0, 2, 2,\n",
              "       2, 1, 0, 1, 1, 2, 1, 1, 2, 1, 1, 0, 0, 2, 1, 2, 2, 1, 0, 0, 1, 1,\n",
              "       0, 2, 0, 0, 1, 1, 1, 1, 1, 2, 2, 0, 1, 2, 2, 0, 0, 1, 1, 0, 0, 2,\n",
              "       1, 1, 1, 0, 0, 2, 1, 1, 0, 0, 2, 1, 2, 2, 2, 2, 2, 0, 0, 2, 0, 2,\n",
              "       0, 2, 1, 0, 0, 0, 1, 0, 0, 2, 2, 2, 0, 0, 2, 0, 1, 1, 1, 0, 0, 0,\n",
              "       2, 1, 1, 0, 0, 0, 2, 0, 1, 0, 1, 0, 1, 2, 1, 2, 1, 1, 2, 2, 2, 1,\n",
              "       1, 2, 2, 0, 0, 0, 0, 0, 2, 2, 0, 0, 1, 1, 2, 1, 0, 2, 1, 1, 0, 1,\n",
              "       2, 1, 1, 1, 0, 2, 1, 0, 2, 2, 2, 1, 2, 2, 1, 1, 2, 2, 0, 0, 1, 0,\n",
              "       1, 0, 2, 1, 1, 1, 2, 2, 2, 1, 0, 1, 1, 1, 1, 2, 0, 1, 0, 1, 2, 0,\n",
              "       0, 2, 1, 1, 0, 0, 0, 0, 0, 2, 2, 1, 1, 2, 2, 1, 2, 0, 0, 2, 1, 2,\n",
              "       0, 1, 1, 1, 2, 2, 2, 2, 2, 0, 2, 1, 0, 0, 0, 1, 2, 1, 2, 0, 1, 2,\n",
              "       2, 2, 1, 0, 2, 2, 0, 0, 0, 2, 1, 0, 2, 0, 1, 2, 1, 1, 0, 1, 0, 2,\n",
              "       0, 1, 0, 2, 0, 2, 0, 0, 1, 2, 1, 1, 2, 1])"
            ]
          },
          "metadata": {},
          "execution_count": 24
        }
      ]
    },
    {
      "cell_type": "code",
      "source": [
        "plt.rcParams['figure.figsize'] = (12,8)\n",
        "\n",
        "cm = confusion_matrix(y_test,y_preds)\n",
        "ax = plt.subplot()\n",
        "sns.heatmap(cm,annot=True,ax=ax)\n",
        "\n",
        "labels = target['mood']\n",
        "ax.set_xlabel('Predicted labels')\n",
        "ax.set_ylabel('True labels')\n",
        "ax.set_title('Confusion Matrix')\n",
        "ax.xaxis.set_ticklabels(labels)\n",
        "ax.yaxis.set_ticklabels(labels)\n",
        "plt.show()\n",
        "\n",
        "print(\"Accuracy Score\",accuracy_score(y_test,y_preds))"
      ],
      "metadata": {
        "colab": {
          "base_uri": "https://localhost:8080/",
          "height": 530
        },
        "id": "pcrIY5HMIFyH",
        "outputId": "3b3cb1ae-d4e6-4bf2-c11d-12cd64105861"
      },
      "execution_count": null,
      "outputs": [
        {
          "output_type": "display_data",
          "data": {
            "text/plain": [
              "<Figure size 864x576 with 2 Axes>"
            ],
            "image/png": "[encoded data removed]"
          },
          "metadata": {
            "needs_background": "light"
          }
        },
        {
          "output_type": "stream",
          "name": "stdout",
          "text": [
            "Accuracy Score 0.7366666666666667\n"
          ]
        }
      ]
    },
    {
      "cell_type": "code",
      "source": [
        "def predict_mood(model, id_song, spotify):\n",
        "\n",
        "    #Obtain the features of the song\n",
        "    preds = get_track_features([id_song], spotify)\n",
        "\n",
        "    #Pre-process the features to input the Model\n",
        "    preds_features = scaler.transform(preds[col_features])\n",
        "\n",
        "    #Predict the features of the song\n",
        "    results = model.predict(preds_features)\n",
        "\n",
        "    predicted = np.argmax(results, axis=1)[0]\n",
        "\n",
        "    mood = target.iat[predicted, 0]\n",
        "\n",
        "    name_song = preds.iat[0, 0]\n",
        "    artist = preds.iat[0, 2]\n",
        "\n",
        "    return print(\"{0} by {1} is a {2} song\".format(name_song,artist, mood.upper()))"
      ],
      "metadata": {
        "id": "u3nctwl5IFPy"
      },
      "execution_count": null,
      "outputs": []
    },
    {
      "cell_type": "code",
      "source": [
        "predict_mood(model, \"spotify:track:1ECCweJjijYRsm6wsNZKbl\", spotify)"
      ],
      "metadata": {
        "colab": {
          "base_uri": "https://localhost:8080/"
        },
        "id": "Um-AhZnvIa7o",
        "outputId": "0b87ddf3-89e4-4a72-f393-8743d3b98961"
      },
      "execution_count": null,
      "outputs": [
        {
          "output_type": "stream",
          "name": "stdout",
          "text": [
            "1/1 [==============================] - 0s 26ms/step\n",
            "Llore y Te Supere by Elias Ayaviri is a SAD song\n"
          ]
        }
      ]
    },
    {
      "cell_type": "markdown",
      "source": [
        "---"
      ],
      "metadata": {
        "id": "1ONwC4Z7D3zJ"
      }
    },
    {
      "cell_type": "markdown",
      "source": [
        "### Methods"
      ],
      "metadata": {
        "id": "3y82-8oqLBnm"
      }
    },
    {
      "cell_type": "markdown",
      "source": [
        "#### Recording audio"
      ],
      "metadata": {
        "id": "sqrcLvHcIJNe"
      }
    },
    {
      "cell_type": "code",
      "source": [
        "!pip install ffmpeg-python"
      ],
      "metadata": {
        "colab": {
          "base_uri": "https://localhost:8080/"
        },
        "id": "WNdBnnpID4ZZ",
        "outputId": "f676eb44-4e72-44f0-b4ce-a2d44277fc11"
      },
      "execution_count": null,
      "outputs": [
        {
          "output_type": "stream",
          "name": "stdout",
          "text": [
            "Looking in indexes: https://pypi.org/simple, https://us-python.pkg.dev/colab-wheels/public/simple/\n",
            "Collecting ffmpeg-python\n",
            "  Downloading ffmpeg_python-0.2.0-py3-none-any.whl (25 kB)\n",
            "Requirement already satisfied: future in /usr/local/lib/python3.8/dist-packages (from ffmpeg-python) (0.16.0)\n",
            "Installing collected packages: ffmpeg-python\n",
            "Successfully installed ffmpeg-python-0.2.0\n"
          ]
        }
      ]
    },
    {
      "cell_type": "code",
      "source": [
        "\"\"\"\n",
        "To write this piece of code I took inspiration/code from a lot of places.\n",
        "It was late night, so I'm not sure how much I created or just copied o.O\n",
        "Here are some of the possible references:\n",
        "https://blog.addpipe.com/recording-audio-in-the-browser-using-pure-html5-and-minimal-javascript/\n",
        "https://stackoverflow.com/a/18650249\n",
        "https://hacks.mozilla.org/2014/06/easy-audio-capture-with-the-mediarecorder-api/\n",
        "https://air.ghost.io/recording-to-an-audio-file-using-html5-and-js/\n",
        "https://stackoverflow.com/a/49019356\n",
        "\"\"\"\n",
        "from IPython.display import HTML, Audio\n",
        "from google.colab.output import eval_js\n",
        "from base64 import b64decode\n",
        "import numpy as np\n",
        "from scipy.io.wavfile import read as wav_read\n",
        "import io\n",
        "import ffmpeg\n",
        "\n",
        "AUDIO_HTML = \"\"\"\n",
        "<script>\n",
        "var my_div = document.createElement(\"DIV\");\n",
        "var my_p = document.createElement(\"P\");\n",
        "var my_btn = document.createElement(\"BUTTON\");\n",
        "var t = document.createTextNode(\"Press to start recording\");\n",
        "my_btn.appendChild(t);\n",
        "//my_p.appendChild(my_btn);\n",
        "my_div.appendChild(my_btn);\n",
        "document.body.appendChild(my_div);\n",
        "var base64data = 0;\n",
        "var reader;\n",
        "var recorder, gumStream;\n",
        "var recordButton = my_btn;\n",
        "\n",
        "var handleSuccess = function(stream) {\n",
        "  gumStream = stream;\n",
        "  var options = {\n",
        "    //bitsPerSecond: 8000, //chrome seems to ignore, always 48k\n",
        "    mimeType : 'audio/webm;codecs=opus'\n",
        "    //mimeType : 'audio/webm;codecs=pcm'\n",
        "  };            \n",
        "\n",
        "  //recorder = new MediaRecorder(stream, options);\n",
        "  recorder = new MediaRecorder(stream);\n",
        "\n",
        "  recorder.ondataavailable = function(e) {            \n",
        "    var url = URL.createObjectURL(e.data);\n",
        "    var preview = document.createElement('audio');\n",
        "    preview.controls = true;\n",
        "    preview.src = url;\n",
        "    document.body.appendChild(preview);\n",
        "    reader = new FileReader();\n",
        "    reader.readAsDataURL(e.data); \n",
        "    reader.onloadend = function() {\n",
        "      base64data = reader.result;\n",
        "      //console.log(\"Inside FileReader:\" + base64data);\n",
        "    }\n",
        "  };\n",
        "  recorder.start();\n",
        "  };\n",
        "recordButton.innerText = \"Recording... press to stop\";\n",
        "navigator.mediaDevices.getUserMedia({audio: true}).then(handleSuccess);\n",
        "function toggleRecording() {\n",
        "  if (recorder && recorder.state == \"recording\") {\n",
        "      recorder.stop();\n",
        "      gumStream.getAudioTracks()[0].stop();\n",
        "      recordButton.innerText = \"Saving the recording... pls wait!\"\n",
        "  }\n",
        "}\n",
        "// https://stackoverflow.com/a/951057\n",
        "function sleep(ms) {\n",
        "  return new Promise(resolve => setTimeout(resolve, ms));\n",
        "}\n",
        "var data = new Promise(resolve=>{\n",
        "//recordButton.addEventListener(\"click\", toggleRecording);\n",
        "recordButton.onclick = ()=>{\n",
        "toggleRecording()\n",
        "sleep(2000).then(() => {\n",
        "  // wait 2000ms for the data to be available...\n",
        "  // ideally this should use something like await...\n",
        "  //console.log(\"Inside data:\" + base64data)\n",
        "  resolve(base64data.toString())\n",
        "});\n",
        "}\n",
        "});\n",
        "      \n",
        "</script>\n",
        "\"\"\"\n",
        "\n",
        "def get_audio():\n",
        "  display(HTML(AUDIO_HTML))\n",
        "\n",
        "  data = eval_js(\"data\")\n",
        "  binary = b64decode(data.split(',')[1])\n",
        "  \n",
        "  process = (ffmpeg\n",
        "    .input('pipe:0')\n",
        "    .output('pipe:1', format='wav')\n",
        "    .run_async(pipe_stdin=True, pipe_stdout=True, pipe_stderr=True, quiet=True, overwrite_output=True)\n",
        "  )\n",
        "\n",
        "  output, err = process.communicate(input=binary)\n",
        "  \n",
        "  riff_chunk_size = len(output) - 8\n",
        "  # Break up the chunk size into four bytes, held in b.\n",
        "  q = riff_chunk_size\n",
        "  b = []\n",
        "  for i in range(4):\n",
        "      q, r = divmod(q, 256)\n",
        "      b.append(r)\n",
        "\n",
        "  # Replace bytes 4:8 in proc.stdout with the actual size of the RIFF chunk.\n",
        "  riff = output[:4] + bytes(b) + output[8:]\n",
        "\n",
        "  sr, audio = wav_read(io.BytesIO(riff))\n",
        "\n",
        "  return audio, sr"
      ],
      "metadata": {
        "id": "AgQjOo7ND9Ah"
      },
      "execution_count": null,
      "outputs": []
    },
    {
      "cell_type": "markdown",
      "source": [
        "#### Saving audio"
      ],
      "metadata": {
        "id": "AntuQUM0IZwu"
      }
    },
    {
      "cell_type": "code",
      "source": [
        "!pip install pydub\n",
        "import pydub \n",
        "import numpy as np"
      ],
      "metadata": {
        "id": "w1zL39mhHYp2",
        "colab": {
          "base_uri": "https://localhost:8080/"
        },
        "outputId": "9d4fe973-4413-4653-dc10-7e2b4e084a56"
      },
      "execution_count": null,
      "outputs": [
        {
          "output_type": "stream",
          "name": "stdout",
          "text": [
            "Looking in indexes: https://pypi.org/simple, https://us-python.pkg.dev/colab-wheels/public/simple/\n",
            "Collecting pydub\n",
            "  Downloading pydub-0.25.1-py2.py3-none-any.whl (32 kB)\n",
            "Installing collected packages: pydub\n",
            "Successfully installed pydub-0.25.1\n"
          ]
        }
      ]
    },
    {
      "cell_type": "code",
      "source": [
        "def write(f, sr, x, normalized=False):\n",
        "    \"\"\"numpy array to MP3\"\"\"\n",
        "    channels = 2 if (x.ndim == 2 and x.shape[1] == 2) else 1\n",
        "    if normalized:  # normalized array - each item should be a float in [-1, 1)\n",
        "        y = np.int16(x * 2 ** 15)\n",
        "    else:\n",
        "        y = np.int16(x)\n",
        "    song = pydub.AudioSegment(y.tobytes(), frame_rate=sr, sample_width=2, channels=channels)\n",
        "    song.export(f, format=\"mp3\", bitrate=\"320k\")"
      ],
      "metadata": {
        "id": "6oJJGTHHHW0-"
      },
      "execution_count": null,
      "outputs": []
    },
    {
      "cell_type": "markdown",
      "source": [
        "#### Shazam"
      ],
      "metadata": {
        "id": "56s0u2iYJFjl"
      }
    },
    {
      "cell_type": "code",
      "source": [
        "!pip install shazamio\n",
        "!pip install nest-asyncio"
      ],
      "metadata": {
        "id": "HtPv3Y_mJIhe",
        "colab": {
          "base_uri": "https://localhost:8080/"
        },
        "outputId": "b0aa3c6d-e597-4ad2-a438-3f22170d9b7a"
      },
      "execution_count": null,
      "outputs": [
        {
          "output_type": "stream",
          "name": "stdout",
          "text": [
            "Looking in indexes: https://pypi.org/simple, https://us-python.pkg.dev/colab-wheels/public/simple/\n",
            "Collecting shazamio\n",
            "  Downloading shazamio-0.3.1.1-py3-none-any.whl (31 kB)\n",
            "Collecting numpy<2.0.0,>=1.24.0\n",
            "  Downloading numpy-1.24.1-cp38-cp38-manylinux_2_17_x86_64.manylinux2014_x86_64.whl (17.3 MB)\n",
            "\u001b[2K     \u001b[90m━━━━━━━━━━━━━━━━━━━━━━━━━━━━━━━━━━━━━━━━\u001b[0m \u001b[32m17.3/17.3 MB\u001b[0m \u001b[31m87.1 MB/s\u001b[0m eta \u001b[36m0:00:00\u001b[0m\n",
            "\u001b[?25hCollecting dataclass-factory==2.16\n",
            "  Downloading dataclass_factory-2.16-py3-none-any.whl (29 kB)\n",
            "Requirement already satisfied: pydantic<2.0.0,>=1.10.2 in /usr/local/lib/python3.8/dist-packages (from shazamio) (1.10.2)\n",
            "Requirement already satisfied: pydub<0.26.0,>=0.25.1 in /usr/local/lib/python3.8/dist-packages (from shazamio) (0.25.1)\n",
            "Collecting anyio<4.0.0,>=3.6.2\n",
            "  Downloading anyio-3.6.2-py3-none-any.whl (80 kB)\n",
            "\u001b[2K     \u001b[90m━━━━━━━━━━━━━━━━━━━━━━━━━━━━━━━━━━━━━━━━\u001b[0m \u001b[32m80.6/80.6 KB\u001b[0m \u001b[31m10.3 MB/s\u001b[0m eta \u001b[36m0:00:00\u001b[0m\n",
            "\u001b[?25hRequirement already satisfied: aiohttp<4.0.0,>=3.8.3 in /usr/local/lib/python3.8/dist-packages (from shazamio) (3.8.3)\n",
            "Collecting pytest-asyncio<0.21.0,>=0.20.3\n",
            "  Downloading pytest_asyncio-0.20.3-py3-none-any.whl (12 kB)\n",
            "Collecting aiofiles<23.0.0,>=22.1.0\n",
            "  Downloading aiofiles-22.1.0-py3-none-any.whl (14 kB)\n",
            "Collecting pytest<8.0.0,>=7.2.0\n",
            "  Downloading pytest-7.2.0-py3-none-any.whl (316 kB)\n",
            "\u001b[2K     \u001b[90m━━━━━━━━━━━━━━━━━━━━━━━━━━━━━━━━━━━━━━\u001b[0m \u001b[32m316.8/316.8 KB\u001b[0m \u001b[31m35.1 MB/s\u001b[0m eta \u001b[36m0:00:00\u001b[0m\n",
            "\u001b[?25hRequirement already satisfied: frozenlist>=1.1.1 in /usr/local/lib/python3.8/dist-packages (from aiohttp<4.0.0,>=3.8.3->shazamio) (1.3.3)\n",
            "Requirement already satisfied: attrs>=17.3.0 in /usr/local/lib/python3.8/dist-packages (from aiohttp<4.0.0,>=3.8.3->shazamio) (22.2.0)\n",
            "Requirement already satisfied: multidict<7.0,>=4.5 in /usr/local/lib/python3.8/dist-packages (from aiohttp<4.0.0,>=3.8.3->shazamio) (6.0.3)\n",
            "Requirement already satisfied: async-timeout<5.0,>=4.0.0a3 in /usr/local/lib/python3.8/dist-packages (from aiohttp<4.0.0,>=3.8.3->shazamio) (4.0.2)\n",
            "Requirement already satisfied: yarl<2.0,>=1.0 in /usr/local/lib/python3.8/dist-packages (from aiohttp<4.0.0,>=3.8.3->shazamio) (1.8.2)\n",
            "Requirement already satisfied: charset-normalizer<3.0,>=2.0 in /usr/local/lib/python3.8/dist-packages (from aiohttp<4.0.0,>=3.8.3->shazamio) (2.1.1)\n",
            "Requirement already satisfied: aiosignal>=1.1.2 in /usr/local/lib/python3.8/dist-packages (from aiohttp<4.0.0,>=3.8.3->shazamio) (1.3.1)\n",
            "Collecting sniffio>=1.1\n",
            "  Downloading sniffio-1.3.0-py3-none-any.whl (10 kB)\n",
            "Requirement already satisfied: idna>=2.8 in /usr/local/lib/python3.8/dist-packages (from anyio<4.0.0,>=3.6.2->shazamio) (2.10)\n",
            "Requirement already satisfied: typing-extensions>=4.1.0 in /usr/local/lib/python3.8/dist-packages (from pydantic<2.0.0,>=1.10.2->shazamio) (4.4.0)\n",
            "Collecting exceptiongroup>=1.0.0rc8\n",
            "  Downloading exceptiongroup-1.1.0-py3-none-any.whl (14 kB)\n",
            "Requirement already satisfied: tomli>=1.0.0 in /usr/local/lib/python3.8/dist-packages (from pytest<8.0.0,>=7.2.0->shazamio) (2.0.1)\n",
            "Collecting pluggy<2.0,>=0.12\n",
            "  Downloading pluggy-1.0.0-py2.py3-none-any.whl (13 kB)\n",
            "Requirement already satisfied: packaging in /usr/local/lib/python3.8/dist-packages (from pytest<8.0.0,>=7.2.0->shazamio) (21.3)\n",
            "Collecting iniconfig\n",
            "  Downloading iniconfig-1.1.1-py2.py3-none-any.whl (5.0 kB)\n",
            "Requirement already satisfied: pyparsing!=3.0.5,>=2.0.2 in /usr/local/lib/python3.8/dist-packages (from packaging->pytest<8.0.0,>=7.2.0->shazamio) (3.0.9)\n",
            "Installing collected packages: iniconfig, sniffio, pluggy, numpy, exceptiongroup, dataclass-factory, aiofiles, pytest, anyio, pytest-asyncio, shazamio\n",
            "  Attempting uninstall: pluggy\n",
            "    Found existing installation: pluggy 0.7.1\n",
            "    Uninstalling pluggy-0.7.1:\n",
            "      Successfully uninstalled pluggy-0.7.1\n",
            "  Attempting uninstall: numpy\n",
            "    Found existing installation: numpy 1.21.6\n",
            "    Uninstalling numpy-1.21.6:\n",
            "      Successfully uninstalled numpy-1.21.6\n",
            "  Attempting uninstall: pytest\n",
            "    Found existing installation: pytest 3.6.4\n",
            "    Uninstalling pytest-3.6.4:\n",
            "      Successfully uninstalled pytest-3.6.4\n",
            "\u001b[31mERROR: pip's dependency resolver does not currently take into account all the packages that are installed. This behaviour is the source of the following dependency conflicts.\n",
            "scipy 1.7.3 requires numpy<1.23.0,>=1.16.5, but you have numpy 1.24.1 which is incompatible.\n",
            "numba 0.56.4 requires numpy<1.24,>=1.18, but you have numpy 1.24.1 which is incompatible.\u001b[0m\u001b[31m\n",
            "\u001b[0mSuccessfully installed aiofiles-22.1.0 anyio-3.6.2 dataclass-factory-2.16 exceptiongroup-1.1.0 iniconfig-1.1.1 numpy-1.24.1 pluggy-1.0.0 pytest-7.2.0 pytest-asyncio-0.20.3 shazamio-0.3.1.1 sniffio-1.3.0\n",
            "Looking in indexes: https://pypi.org/simple, https://us-python.pkg.dev/colab-wheels/public/simple/\n",
            "Collecting nest-asyncio\n",
            "  Downloading nest_asyncio-1.5.6-py3-none-any.whl (5.2 kB)\n",
            "Installing collected packages: nest-asyncio\n",
            "Successfully installed nest-asyncio-1.5.6\n"
          ]
        }
      ]
    },
    {
      "cell_type": "code",
      "source": [
        "import nest_asyncio\n",
        "nest_asyncio.apply()\n",
        "# Pretty Print a Dictionary using json\n",
        "import json\n",
        "\n",
        "import asyncio\n",
        "from shazamio import Shazam, Serialize"
      ],
      "metadata": {
        "id": "5aJJKNfjJOA4"
      },
      "execution_count": null,
      "outputs": []
    },
    {
      "cell_type": "code",
      "source": [
        "async def main():\n",
        "  shazam = Shazam()\n",
        "  out = await shazam.recognize_song('audio.mp3')\n",
        "\n",
        "  #data = json.dumps(out, indent=4)\n",
        "\n",
        "  return out"
      ],
      "metadata": {
        "id": "9dfNXFV5JYmm"
      },
      "execution_count": null,
      "outputs": []
    },
    {
      "cell_type": "markdown",
      "source": [
        "### Main"
      ],
      "metadata": {
        "id": "zhvX0oLHIQSd"
      }
    },
    {
      "cell_type": "code",
      "source": [
        "# Grabando audio\n",
        "audio, sr = get_audio()\n",
        "\n",
        "# Guardando grabación\n",
        "write('audio.mp3', sr, audio)"
      ],
      "metadata": {
        "colab": {
          "base_uri": "https://localhost:8080/",
          "height": 98
        },
        "id": "g30h2S_uIR2O",
        "outputId": "7fd30fb3-47a9-482e-b381-af22b6f08e81"
      },
      "execution_count": null,
      "outputs": [
        {
          "output_type": "display_data",
          "data": {
            "text/plain": [
              "<IPython.core.display.HTML object>"
            ],
            "text/html": [
              "\n",
              "<script>\n",
              "var my_div = document.createElement(\"DIV\");\n",
              "var my_p = document.createElement(\"P\");\n",
              "var my_btn = document.createElement(\"BUTTON\");\n",
              "var t = document.createTextNode(\"Press to start recording\");\n",
              "my_btn.appendChild(t);\n",
              "//my_p.appendChild(my_btn);\n",
              "my_div.appendChild(my_btn);\n",
              "document.body.appendChild(my_div);\n",
              "var base64data = 0;\n",
              "var reader;\n",
              "var recorder, gumStream;\n",
              "var recordButton = my_btn;\n",
              "\n",
              "var handleSuccess = function(stream) {\n",
              "  gumStream = stream;\n",
              "  var options = {\n",
              "    //bitsPerSecond: 8000, //chrome seems to ignore, always 48k\n",
              "    mimeType : 'audio/webm;codecs=opus'\n",
              "    //mimeType : 'audio/webm;codecs=pcm'\n",
              "  };            \n",
              "\n",
              "  //recorder = new MediaRecorder(stream, options);\n",
              "  recorder = new MediaRecorder(stream);\n",
              "\n",
              "  recorder.ondataavailable = function(e) {            \n",
              "    var url = URL.createObjectURL(e.data);\n",
              "    var preview = document.createElement('audio');\n",
              "    preview.controls = true;\n",
              "    preview.src = url;\n",
              "    document.body.appendChild(preview);\n",
              "    reader = new FileReader();\n",
              "    reader.readAsDataURL(e.data); \n",
              "    reader.onloadend = function() {\n",
              "      base64data = reader.result;\n",
              "      //console.log(\"Inside FileReader:\" + base64data);\n",
              "    }\n",
              "  };\n",
              "  recorder.start();\n",
              "  };\n",
              "recordButton.innerText = \"Recording... press to stop\";\n",
              "navigator.mediaDevices.getUserMedia({audio: true}).then(handleSuccess);\n",
              "function toggleRecording() {\n",
              "  if (recorder && recorder.state == \"recording\") {\n",
              "      recorder.stop();\n",
              "      gumStream.getAudioTracks()[0].stop();\n",
              "      recordButton.innerText = \"Saving the recording... pls wait!\"\n",
              "  }\n",
              "}\n",
              "// https://stackoverflow.com/a/951057\n",
              "function sleep(ms) {\n",
              "  return new Promise(resolve => setTimeout(resolve, ms));\n",
              "}\n",
              "var data = new Promise(resolve=>{\n",
              "//recordButton.addEventListener(\"click\", toggleRecording);\n",
              "recordButton.onclick = ()=>{\n",
              "toggleRecording()\n",
              "sleep(2000).then(() => {\n",
              "  // wait 2000ms for the data to be available...\n",
              "  // ideally this should use something like await...\n",
              "  //console.log(\"Inside data:\" + base64data)\n",
              "  resolve(base64data.toString())\n",
              "});\n",
              "}\n",
              "});\n",
              "      \n",
              "</script>\n"
            ]
          },
          "metadata": {}
        }
      ]
    },
    {
      "cell_type": "code",
      "source": [
        "# Step 01. Shazam (Identificando la canción)\n",
        "\n",
        "loop = asyncio.get_event_loop()\n",
        "data = loop.run_until_complete(main())\n",
        "\n",
        "# Step 02. Obteniendo la key word para obtener la uri de la canción\n",
        "\n",
        "search_track = data[\"track\"][\"hub\"][\"providers\"][0][\"actions\"][0][\"uri\"]\n",
        "#print(search_track)\n",
        "search_track = search_track[15:].replace(\"%20\", \" \")\n",
        "search_track\n",
        "\n",
        "# Step 03. Obteniendo la uri del canción\n",
        "\n",
        "searched_track = spotify.search(search_track, limit=1)\n",
        "uri_searched_track = searched_track[\"tracks\"][\"items\"][0][\"uri\"]\n",
        "uri_searched_track\n",
        "\n",
        "# Step 04. Obteniendo la uri del canción\n",
        "\n",
        "searched_track = spotify.search(search_track, limit=1)\n",
        "uri_searched_track = searched_track[\"tracks\"][\"items\"][0][\"uri\"]\n",
        "uri_searched_track\n",
        "\n",
        "# Step 05. Predicción del estado de animo de la canción\n",
        "\n",
        "predict_mood(model, uri_searched_track, spotify)"
      ],
      "metadata": {
        "colab": {
          "base_uri": "https://localhost:8080/"
        },
        "id": "--L8MLHMysTc",
        "outputId": "e65d2fa3-e90f-4f93-c641-5869a39f91b8"
      },
      "execution_count": null,
      "outputs": [
        {
          "output_type": "stream",
          "name": "stdout",
          "text": [
            "1/1 [==============================] - 0s 14ms/step\n",
            "Sunny by Boney M. is a ENERGETIC song\n"
          ]
        }
      ]
    },
    {
      "cell_type": "markdown",
      "source": [
        "#### Auxiliar"
      ],
      "metadata": {
        "id": "LPxYXSIyzJpp"
      }
    },
    {
      "cell_type": "code",
      "source": [
        "# Shazam (Identificando la canción)\n",
        "\n",
        "loop = asyncio.get_event_loop()\n",
        "data = loop.run_until_complete(main())"
      ],
      "metadata": {
        "id": "E3bQtKNYInUG"
      },
      "execution_count": null,
      "outputs": []
    },
    {
      "cell_type": "code",
      "source": [
        "# Obteniendo la key word para obtener la uri de la canción\n",
        "\n",
        "search_track = data[\"track\"][\"hub\"][\"providers\"][0][\"actions\"][0][\"uri\"]\n",
        "#print(search_track)\n",
        "search_track = search_track[15:].replace(\"%20\", \" \")\n",
        "search_track"
      ],
      "metadata": {
        "colab": {
          "base_uri": "https://localhost:8080/",
          "height": 36
        },
        "id": "LyChDFYEPI6C",
        "outputId": "10807c90-fd16-44a6-8df6-555d54b57522"
      },
      "execution_count": null,
      "outputs": [
        {
          "output_type": "execute_result",
          "data": {
            "text/plain": [
              "'El Rap De Fernanfloo Club De Fans De Fernan'"
            ],
            "application/vnd.google.colaboratory.intrinsic+json": {
              "type": "string"
            }
          },
          "metadata": {},
          "execution_count": 323
        }
      ]
    },
    {
      "cell_type": "code",
      "source": [
        "# Obteniendo la uri del canción\n",
        "\n",
        "searched_track = spotify.search(search_track, limit=1)\n",
        "uri_searched_track = searched_track[\"tracks\"][\"items\"][0][\"uri\"]\n",
        "uri_searched_track"
      ],
      "metadata": {
        "colab": {
          "base_uri": "https://localhost:8080/",
          "height": 36
        },
        "id": "Wspes55ZP0ZB",
        "outputId": "4d17845b-4780-4585-c905-d3bfab82ba26"
      },
      "execution_count": null,
      "outputs": [
        {
          "output_type": "execute_result",
          "data": {
            "text/plain": [
              "'spotify:track:3cetIkeT9enVzoivrbB9oM'"
            ],
            "application/vnd.google.colaboratory.intrinsic+json": {
              "type": "string"
            }
          },
          "metadata": {},
          "execution_count": 324
        }
      ]
    },
    {
      "cell_type": "code",
      "source": [
        "predict_mood(model, uri_searched_track, spotify)"
      ],
      "metadata": {
        "colab": {
          "base_uri": "https://localhost:8080/"
        },
        "id": "T8aYwDnlRfjg",
        "outputId": "feaeec23-be2f-4ce7-cb19-9b29fa9d25b0"
      },
      "execution_count": null,
      "outputs": [
        {
          "output_type": "stream",
          "name": "stdout",
          "text": [
            "1/1 [==============================] - 0s 94ms/step\n",
            "El Rap De Fernanfloo by Club De Fans De Fernan is a HAPPY song\n"
          ]
        }
      ]
    }
  ]
}